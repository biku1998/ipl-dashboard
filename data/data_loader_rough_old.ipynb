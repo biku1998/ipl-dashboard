{
 "cells": [
  {
   "cell_type": "markdown",
   "id": "6ca41776-7308-473a-b094-0f5226b294f1",
   "metadata": {},
   "source": [
    "## Loading data in the database\n",
    "---\n",
    "### We will perform the following steps in order to load the data into mongoDB\n",
    "\n",
    "1. read the cleaned csv data i.e `matches.csv`\n",
    "2. iterate through the data and make http request to the backend API\n",
    "\n",
    "### Data structure in the backend\n",
    "**In the backend we have 2 tables**\n",
    "1. teams\n",
    "2. matches\n",
    "\n",
    "`matches` table is has the same structure as the `matches.csv`, but for `teams` table we have to perform some transformation on the data we have\n",
    "\n",
    "Cool! Let's get started with matches table"
   ]
  },
  {
   "cell_type": "code",
   "execution_count": 1,
   "id": "e9bc39c2-7989-4b1f-9e51-d418d1e9889a",
   "metadata": {},
   "outputs": [],
   "source": [
    "import pandas as pd\n",
    "import requests\n",
    "import typing\n",
    "import json\n",
    "import warnings\n",
    "warnings.filterwarnings(\"ignore\")"
   ]
  },
  {
   "cell_type": "code",
   "execution_count": 2,
   "id": "3a441bc2-c7b6-4512-9faa-3a83b7ff9dd1",
   "metadata": {},
   "outputs": [],
   "source": [
    "df_matches = pd.read_csv(\"matches.csv\")"
   ]
  },
  {
   "cell_type": "code",
   "execution_count": 3,
   "id": "d308ee70-a874-4587-ab04-e9aeb71145a8",
   "metadata": {},
   "outputs": [
    {
     "data": {
      "text/html": [
       "<div>\n",
       "<style scoped>\n",
       "    .dataframe tbody tr th:only-of-type {\n",
       "        vertical-align: middle;\n",
       "    }\n",
       "\n",
       "    .dataframe tbody tr th {\n",
       "        vertical-align: top;\n",
       "    }\n",
       "\n",
       "    .dataframe thead th {\n",
       "        text-align: right;\n",
       "    }\n",
       "</style>\n",
       "<table border=\"1\" class=\"dataframe\">\n",
       "  <thead>\n",
       "    <tr style=\"text-align: right;\">\n",
       "      <th></th>\n",
       "      <th>id</th>\n",
       "      <th>city</th>\n",
       "      <th>date</th>\n",
       "      <th>player_of_match</th>\n",
       "      <th>venue</th>\n",
       "      <th>team1</th>\n",
       "      <th>team2</th>\n",
       "      <th>toss_winner</th>\n",
       "      <th>toss_decision</th>\n",
       "      <th>winner</th>\n",
       "      <th>result</th>\n",
       "      <th>result_margin</th>\n",
       "      <th>umpire1</th>\n",
       "      <th>umpire2</th>\n",
       "    </tr>\n",
       "  </thead>\n",
       "  <tbody>\n",
       "    <tr>\n",
       "      <th>0</th>\n",
       "      <td>335982</td>\n",
       "      <td>Bengaluru</td>\n",
       "      <td>2008-04-18</td>\n",
       "      <td>BB McCullum</td>\n",
       "      <td>M.Chinnaswamy Stadium</td>\n",
       "      <td>Royal Challengers Bangalore</td>\n",
       "      <td>Kolkata Knight Riders</td>\n",
       "      <td>Royal Challengers Bangalore</td>\n",
       "      <td>field</td>\n",
       "      <td>Kolkata Knight Riders</td>\n",
       "      <td>runs</td>\n",
       "      <td>140.0</td>\n",
       "      <td>Asad Rauf</td>\n",
       "      <td>RE Koertzen</td>\n",
       "    </tr>\n",
       "    <tr>\n",
       "      <th>1</th>\n",
       "      <td>335983</td>\n",
       "      <td>Chandigarh</td>\n",
       "      <td>2008-04-19</td>\n",
       "      <td>MEK Hussey</td>\n",
       "      <td>Punjab Cricket Association Stadium, Mohali</td>\n",
       "      <td>Kings XI Punjab</td>\n",
       "      <td>Chennai Super Kings</td>\n",
       "      <td>Chennai Super Kings</td>\n",
       "      <td>bat</td>\n",
       "      <td>Chennai Super Kings</td>\n",
       "      <td>runs</td>\n",
       "      <td>33.0</td>\n",
       "      <td>MR Benson</td>\n",
       "      <td>SL Shastri</td>\n",
       "    </tr>\n",
       "  </tbody>\n",
       "</table>\n",
       "</div>"
      ],
      "text/plain": [
       "       id        city        date player_of_match  \\\n",
       "0  335982   Bengaluru  2008-04-18     BB McCullum   \n",
       "1  335983  Chandigarh  2008-04-19      MEK Hussey   \n",
       "\n",
       "                                        venue                        team1  \\\n",
       "0                       M.Chinnaswamy Stadium  Royal Challengers Bangalore   \n",
       "1  Punjab Cricket Association Stadium, Mohali              Kings XI Punjab   \n",
       "\n",
       "                   team2                  toss_winner toss_decision  \\\n",
       "0  Kolkata Knight Riders  Royal Challengers Bangalore         field   \n",
       "1    Chennai Super Kings          Chennai Super Kings           bat   \n",
       "\n",
       "                  winner result  result_margin    umpire1      umpire2  \n",
       "0  Kolkata Knight Riders   runs          140.0  Asad Rauf  RE Koertzen  \n",
       "1    Chennai Super Kings   runs           33.0  MR Benson   SL Shastri  "
      ]
     },
     "execution_count": 3,
     "metadata": {},
     "output_type": "execute_result"
    }
   ],
   "source": [
    "df_matches.head(2)"
   ]
  },
  {
   "cell_type": "code",
   "execution_count": 4,
   "id": "5cd79595-62fe-495d-80f4-718f43642f8d",
   "metadata": {},
   "outputs": [],
   "source": [
    "_API_URL = \"http://localhost:4000\"\n",
    "\n",
    "headers = {\n",
    "    \"Content-Type\": \"application/json\"\n",
    "}"
   ]
  },
  {
   "cell_type": "code",
   "execution_count": 5,
   "id": "52231931-726f-49d1-8be4-73f5475169fa",
   "metadata": {},
   "outputs": [
    {
     "name": "stdout",
     "output_type": "stream",
     "text": [
      "{'info': 'IPL Dashboard backend API', 'status': 'active'} 200\n"
     ]
    }
   ],
   "source": [
    "resp = requests.get(_API_URL)\n",
    "print(resp.json(),resp.status_code)"
   ]
  },
  {
   "cell_type": "code",
   "execution_count": 6,
   "id": "c5d28f6b-0270-4e43-9f83-94e7b9d5f0ae",
   "metadata": {},
   "outputs": [],
   "source": [
    "def create_match(match:typing.Dict) -> typing.Union[typing.Dict,None]:\n",
    "    \"\"\"\n",
    "    Calls the backend API to create new match\n",
    "    \"\"\"\n",
    "    try:\n",
    "        resp = requests.post(_API_URL+\"/matches\",headers=headers,data = json.dumps(match))\n",
    "        if resp.status_code == 201:\n",
    "            return resp.json()\n",
    "        else:\n",
    "            print(resp.content)\n",
    "    except Exception as e:\n",
    "        print(e)\n",
    "        return None"
   ]
  },
  {
   "cell_type": "code",
   "execution_count": 7,
   "id": "b2636f85-44ea-4489-8363-3e61e37dd35f",
   "metadata": {},
   "outputs": [
    {
     "name": "stdout",
     "output_type": "stream",
     "text": [
      "[]\n"
     ]
    }
   ],
   "source": [
    "failed_for = []\n",
    "\n",
    "for index,match in df_matches.iterrows():\n",
    "    new_match = create_match(match.to_dict())\n",
    "    if new_match:\n",
    "        pass\n",
    "    else:\n",
    "        failed_for.append(match.to_dict())\n",
    "\n",
    "print(failed_for)    "
   ]
  },
  {
   "cell_type": "markdown",
   "id": "e14ff2f0-c2cc-4208-86c6-5962996ca3f1",
   "metadata": {},
   "source": [
    "### teams table\n",
    "\n",
    "**Teams table has the following structure**\n",
    "```\n",
    "{\n",
    "    name: {\n",
    "      type: String,\n",
    "      required: true,\n",
    "      trim: true,\n",
    "      unique: true,\n",
    "    },\n",
    "    total_matches: {\n",
    "      type: Number,\n",
    "      required: true,\n",
    "    },\n",
    "    total_wins: {\n",
    "      type: Number,\n",
    "      required: true,\n",
    "    },\n",
    "  }\n",
    "```\n",
    "\n",
    "As you can see we have to perform some data prepration before calling the backend API"
   ]
  },
  {
   "cell_type": "code",
   "execution_count": 8,
   "id": "91f53dce-5cf5-4704-beb5-cabcc733f60f",
   "metadata": {},
   "outputs": [],
   "source": [
    "def get_info(team_name:str,df:pd.DataFrame)-> typing.Union[typing.Dict,None]:\n",
    "    \"\"\"\n",
    "    calculates total number of matches and total number of wins for a team.\n",
    "    \"\"\"\n",
    "    try:\n",
    "        return {\n",
    "            \"name\":team_name,\n",
    "        }\n",
    "    except Exception as e:\n",
    "        print(e)\n",
    "        return None"
   ]
  },
  {
   "cell_type": "code",
   "execution_count": 9,
   "id": "1c7355e4-0360-486f-bf79-9d9d85229d6e",
   "metadata": {},
   "outputs": [
    {
     "data": {
      "text/plain": [
       "{'name': 'Royal Challengers Bangalore'}"
      ]
     },
     "execution_count": 9,
     "metadata": {},
     "output_type": "execute_result"
    }
   ],
   "source": [
    "# test\n",
    "\n",
    "get_info(\"Royal Challengers Bangalore\",df_matches)"
   ]
  },
  {
   "cell_type": "code",
   "execution_count": 10,
   "id": "ea0fce03-6fe9-4e68-80ef-1ff5130a24c2",
   "metadata": {},
   "outputs": [],
   "source": [
    "def create_team(team:typing.Dict) -> typing.Union[typing.Dict,None]:\n",
    "    \"\"\"\n",
    "    Calls the backend API to create new team\n",
    "    \"\"\"\n",
    "    try:\n",
    "        resp = requests.post(_API_URL+\"/teams\",headers=headers,data = json.dumps(team))\n",
    "        if resp.status_code == 201:\n",
    "            return resp.json()\n",
    "        else:\n",
    "            print(resp.content)\n",
    "    except Exception as e:\n",
    "        print(e)\n",
    "        return None"
   ]
  },
  {
   "cell_type": "code",
   "execution_count": 11,
   "id": "637088a7-ea27-4dd8-b8a2-532608292cac",
   "metadata": {},
   "outputs": [],
   "source": [
    "# iterate over unique team\n",
    "unique_team_names = list(set(df_matches[\"team1\"].tolist() + df_matches[\"team2\"].tolist()))"
   ]
  },
  {
   "cell_type": "code",
   "execution_count": 12,
   "id": "a2ede263-9531-4519-9ca6-0923413ed96f",
   "metadata": {},
   "outputs": [
    {
     "data": {
      "text/plain": [
       "['Kings XI Punjab',\n",
       " 'Kolkata Knight Riders',\n",
       " 'Royal Challengers Bangalore',\n",
       " 'Gujarat Lions',\n",
       " 'Mumbai Indians',\n",
       " 'Rajasthan Royals',\n",
       " 'Sunrisers Hyderabad',\n",
       " 'Chennai Super Kings',\n",
       " 'Rising Pune Supergiant',\n",
       " 'Kochi Tuskers Kerala',\n",
       " 'Delhi Capitals']"
      ]
     },
     "execution_count": 12,
     "metadata": {},
     "output_type": "execute_result"
    }
   ],
   "source": [
    "unique_team_names"
   ]
  },
  {
   "cell_type": "code",
   "execution_count": 13,
   "id": "2cd32c89-71f8-4bf9-97ef-201101732de0",
   "metadata": {},
   "outputs": [
    {
     "name": "stdout",
     "output_type": "stream",
     "text": [
      "created!!\n",
      "created!!\n",
      "created!!\n",
      "created!!\n",
      "created!!\n",
      "created!!\n",
      "created!!\n",
      "created!!\n",
      "created!!\n",
      "created!!\n",
      "created!!\n"
     ]
    }
   ],
   "source": [
    "for team in unique_team_names:\n",
    "    team_payload = get_info(team,df_matches)\n",
    "    new_team = create_team(team_payload)\n",
    "    if new_team:\n",
    "        print(\"created!!\")\n",
    "    else:\n",
    "        print(\"failed\")"
   ]
  },
  {
   "cell_type": "markdown",
   "id": "18c25d64-eb6f-4332-aad2-9e0c259140f2",
   "metadata": {},
   "source": [
    "## Cool! we have uploaded all the data"
   ]
  },
  {
   "cell_type": "code",
   "execution_count": 15,
   "id": "b8f86ced-c37e-4f99-92af-6028529c4ee5",
   "metadata": {},
   "outputs": [
    {
     "data": {
      "text/plain": [
       "(97, 14)"
      ]
     },
     "execution_count": 15,
     "metadata": {},
     "output_type": "execute_result"
    }
   ],
   "source": [
    "df_matches[df_matches[\"winner\"] == \"Kolkata Knight Riders\"].shape"
   ]
  },
  {
   "cell_type": "code",
   "execution_count": null,
   "id": "b9e7977b-726f-4fe3-81f3-352f8d4e1df2",
   "metadata": {},
   "outputs": [],
   "source": []
  }
 ],
 "metadata": {
  "kernelspec": {
   "display_name": "Python 3",
   "language": "python",
   "name": "python3"
  },
  "language_info": {
   "codemirror_mode": {
    "name": "ipython",
    "version": 3
   },
   "file_extension": ".py",
   "mimetype": "text/x-python",
   "name": "python",
   "nbconvert_exporter": "python",
   "pygments_lexer": "ipython3",
   "version": "3.9.4"
  }
 },
 "nbformat": 4,
 "nbformat_minor": 5
}
