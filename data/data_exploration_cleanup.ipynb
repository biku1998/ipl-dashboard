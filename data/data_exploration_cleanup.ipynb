{
 "cells": [
  {
   "cell_type": "markdown",
   "id": "fdd1ad71-6a50-4299-bcb9-cbddc002fa67",
   "metadata": {},
   "source": [
    "## Data exploration and basic cleaning"
   ]
  },
  {
   "cell_type": "code",
   "execution_count": 1,
   "id": "e3780829-d090-4197-bb18-02bc1588a9c6",
   "metadata": {},
   "outputs": [],
   "source": [
    "import pandas as pd\n",
    "import warnings\n",
    "\n",
    "warnings.filterwarnings(\"ignore\")"
   ]
  },
  {
   "cell_type": "code",
   "execution_count": 2,
   "id": "c11d8bb2-52b7-446b-bb19-caa79c5c84fc",
   "metadata": {},
   "outputs": [],
   "source": [
    "df_matches = pd.read_csv(\"IPL_Matches.csv\")"
   ]
  },
  {
   "cell_type": "code",
   "execution_count": 3,
   "id": "0f92676c-23df-4bd0-8a01-2f1e197b4dfd",
   "metadata": {},
   "outputs": [
    {
     "data": {
      "text/plain": [
       "(816, 17)"
      ]
     },
     "execution_count": 3,
     "metadata": {},
     "output_type": "execute_result"
    }
   ],
   "source": [
    "# check the no of data points we have\n",
    "df_matches.shape"
   ]
  },
  {
   "cell_type": "code",
   "execution_count": 4,
   "id": "d6512578-7eb7-40cb-8e41-723a9ec64c3a",
   "metadata": {},
   "outputs": [
    {
     "data": {
      "text/html": [
       "<div>\n",
       "<style scoped>\n",
       "    .dataframe tbody tr th:only-of-type {\n",
       "        vertical-align: middle;\n",
       "    }\n",
       "\n",
       "    .dataframe tbody tr th {\n",
       "        vertical-align: top;\n",
       "    }\n",
       "\n",
       "    .dataframe thead th {\n",
       "        text-align: right;\n",
       "    }\n",
       "</style>\n",
       "<table border=\"1\" class=\"dataframe\">\n",
       "  <thead>\n",
       "    <tr style=\"text-align: right;\">\n",
       "      <th></th>\n",
       "      <th>id</th>\n",
       "      <th>city</th>\n",
       "      <th>date</th>\n",
       "      <th>player_of_match</th>\n",
       "      <th>venue</th>\n",
       "      <th>neutral_venue</th>\n",
       "      <th>team1</th>\n",
       "      <th>team2</th>\n",
       "      <th>toss_winner</th>\n",
       "      <th>toss_decision</th>\n",
       "      <th>winner</th>\n",
       "      <th>result</th>\n",
       "      <th>result_margin</th>\n",
       "      <th>eliminator</th>\n",
       "      <th>method</th>\n",
       "      <th>umpire1</th>\n",
       "      <th>umpire2</th>\n",
       "    </tr>\n",
       "  </thead>\n",
       "  <tbody>\n",
       "    <tr>\n",
       "      <th>0</th>\n",
       "      <td>335982</td>\n",
       "      <td>Bangalore</td>\n",
       "      <td>2008-04-18</td>\n",
       "      <td>BB McCullum</td>\n",
       "      <td>M Chinnaswamy Stadium</td>\n",
       "      <td>0</td>\n",
       "      <td>Royal Challengers Bangalore</td>\n",
       "      <td>Kolkata Knight Riders</td>\n",
       "      <td>Royal Challengers Bangalore</td>\n",
       "      <td>field</td>\n",
       "      <td>Kolkata Knight Riders</td>\n",
       "      <td>runs</td>\n",
       "      <td>140.0</td>\n",
       "      <td>N</td>\n",
       "      <td>NaN</td>\n",
       "      <td>Asad Rauf</td>\n",
       "      <td>RE Koertzen</td>\n",
       "    </tr>\n",
       "    <tr>\n",
       "      <th>1</th>\n",
       "      <td>335983</td>\n",
       "      <td>Chandigarh</td>\n",
       "      <td>2008-04-19</td>\n",
       "      <td>MEK Hussey</td>\n",
       "      <td>Punjab Cricket Association Stadium, Mohali</td>\n",
       "      <td>0</td>\n",
       "      <td>Kings XI Punjab</td>\n",
       "      <td>Chennai Super Kings</td>\n",
       "      <td>Chennai Super Kings</td>\n",
       "      <td>bat</td>\n",
       "      <td>Chennai Super Kings</td>\n",
       "      <td>runs</td>\n",
       "      <td>33.0</td>\n",
       "      <td>N</td>\n",
       "      <td>NaN</td>\n",
       "      <td>MR Benson</td>\n",
       "      <td>SL Shastri</td>\n",
       "    </tr>\n",
       "    <tr>\n",
       "      <th>2</th>\n",
       "      <td>335984</td>\n",
       "      <td>Delhi</td>\n",
       "      <td>2008-04-19</td>\n",
       "      <td>MF Maharoof</td>\n",
       "      <td>Feroz Shah Kotla</td>\n",
       "      <td>0</td>\n",
       "      <td>Delhi Daredevils</td>\n",
       "      <td>Rajasthan Royals</td>\n",
       "      <td>Rajasthan Royals</td>\n",
       "      <td>bat</td>\n",
       "      <td>Delhi Daredevils</td>\n",
       "      <td>wickets</td>\n",
       "      <td>9.0</td>\n",
       "      <td>N</td>\n",
       "      <td>NaN</td>\n",
       "      <td>Aleem Dar</td>\n",
       "      <td>GA Pratapkumar</td>\n",
       "    </tr>\n",
       "    <tr>\n",
       "      <th>3</th>\n",
       "      <td>335985</td>\n",
       "      <td>Mumbai</td>\n",
       "      <td>2008-04-20</td>\n",
       "      <td>MV Boucher</td>\n",
       "      <td>Wankhede Stadium</td>\n",
       "      <td>0</td>\n",
       "      <td>Mumbai Indians</td>\n",
       "      <td>Royal Challengers Bangalore</td>\n",
       "      <td>Mumbai Indians</td>\n",
       "      <td>bat</td>\n",
       "      <td>Royal Challengers Bangalore</td>\n",
       "      <td>wickets</td>\n",
       "      <td>5.0</td>\n",
       "      <td>N</td>\n",
       "      <td>NaN</td>\n",
       "      <td>SJ Davis</td>\n",
       "      <td>DJ Harper</td>\n",
       "    </tr>\n",
       "    <tr>\n",
       "      <th>4</th>\n",
       "      <td>335986</td>\n",
       "      <td>Kolkata</td>\n",
       "      <td>2008-04-20</td>\n",
       "      <td>DJ Hussey</td>\n",
       "      <td>Eden Gardens</td>\n",
       "      <td>0</td>\n",
       "      <td>Kolkata Knight Riders</td>\n",
       "      <td>Deccan Chargers</td>\n",
       "      <td>Deccan Chargers</td>\n",
       "      <td>bat</td>\n",
       "      <td>Kolkata Knight Riders</td>\n",
       "      <td>wickets</td>\n",
       "      <td>5.0</td>\n",
       "      <td>N</td>\n",
       "      <td>NaN</td>\n",
       "      <td>BF Bowden</td>\n",
       "      <td>K Hariharan</td>\n",
       "    </tr>\n",
       "  </tbody>\n",
       "</table>\n",
       "</div>"
      ],
      "text/plain": [
       "       id        city        date player_of_match  \\\n",
       "0  335982   Bangalore  2008-04-18     BB McCullum   \n",
       "1  335983  Chandigarh  2008-04-19      MEK Hussey   \n",
       "2  335984       Delhi  2008-04-19     MF Maharoof   \n",
       "3  335985      Mumbai  2008-04-20      MV Boucher   \n",
       "4  335986     Kolkata  2008-04-20       DJ Hussey   \n",
       "\n",
       "                                        venue  neutral_venue  \\\n",
       "0                       M Chinnaswamy Stadium              0   \n",
       "1  Punjab Cricket Association Stadium, Mohali              0   \n",
       "2                            Feroz Shah Kotla              0   \n",
       "3                            Wankhede Stadium              0   \n",
       "4                                Eden Gardens              0   \n",
       "\n",
       "                         team1                        team2  \\\n",
       "0  Royal Challengers Bangalore        Kolkata Knight Riders   \n",
       "1              Kings XI Punjab          Chennai Super Kings   \n",
       "2             Delhi Daredevils             Rajasthan Royals   \n",
       "3               Mumbai Indians  Royal Challengers Bangalore   \n",
       "4        Kolkata Knight Riders              Deccan Chargers   \n",
       "\n",
       "                   toss_winner toss_decision                       winner  \\\n",
       "0  Royal Challengers Bangalore         field        Kolkata Knight Riders   \n",
       "1          Chennai Super Kings           bat          Chennai Super Kings   \n",
       "2             Rajasthan Royals           bat             Delhi Daredevils   \n",
       "3               Mumbai Indians           bat  Royal Challengers Bangalore   \n",
       "4              Deccan Chargers           bat        Kolkata Knight Riders   \n",
       "\n",
       "    result  result_margin eliminator method    umpire1         umpire2  \n",
       "0     runs          140.0          N    NaN  Asad Rauf     RE Koertzen  \n",
       "1     runs           33.0          N    NaN  MR Benson      SL Shastri  \n",
       "2  wickets            9.0          N    NaN  Aleem Dar  GA Pratapkumar  \n",
       "3  wickets            5.0          N    NaN   SJ Davis       DJ Harper  \n",
       "4  wickets            5.0          N    NaN  BF Bowden     K Hariharan  "
      ]
     },
     "execution_count": 4,
     "metadata": {},
     "output_type": "execute_result"
    }
   ],
   "source": [
    "# let's look at some rows\n",
    "\n",
    "df_matches.head()"
   ]
  },
  {
   "cell_type": "code",
   "execution_count": 5,
   "id": "120fd9d7-6028-4393-b35b-cc0f08fa74bd",
   "metadata": {},
   "outputs": [
    {
     "data": {
      "text/plain": [
       "Index(['id', 'city', 'date', 'player_of_match', 'venue', 'neutral_venue',\n",
       "       'team1', 'team2', 'toss_winner', 'toss_decision', 'winner', 'result',\n",
       "       'result_margin', 'eliminator', 'method', 'umpire1', 'umpire2'],\n",
       "      dtype='object')"
      ]
     },
     "execution_count": 5,
     "metadata": {},
     "output_type": "execute_result"
    }
   ],
   "source": [
    "# column names\n",
    "\n",
    "df_matches.columns"
   ]
  },
  {
   "cell_type": "code",
   "execution_count": 6,
   "id": "5809ba17-787a-4c3c-b887-55b5611fdd5d",
   "metadata": {},
   "outputs": [],
   "source": [
    "# remove some columns that we don't need\n",
    "# we can also do use pandas drop\n",
    "\n",
    "df = df_matches[[\"id\",\"city\",\"date\",\"player_of_match\",\"venue\",\"team1\",\\\n",
    "                 \"team2\",\"toss_winner\",\"toss_decision\",\"winner\",\"result\",\\\n",
    "                 \"result_margin\",\"umpire1\",\"umpire2\"]]"
   ]
  },
  {
   "cell_type": "code",
   "execution_count": 7,
   "id": "30fd6539-81ec-48d1-98fc-52bb64ec7ae5",
   "metadata": {},
   "outputs": [
    {
     "data": {
      "text/html": [
       "<div>\n",
       "<style scoped>\n",
       "    .dataframe tbody tr th:only-of-type {\n",
       "        vertical-align: middle;\n",
       "    }\n",
       "\n",
       "    .dataframe tbody tr th {\n",
       "        vertical-align: top;\n",
       "    }\n",
       "\n",
       "    .dataframe thead th {\n",
       "        text-align: right;\n",
       "    }\n",
       "</style>\n",
       "<table border=\"1\" class=\"dataframe\">\n",
       "  <thead>\n",
       "    <tr style=\"text-align: right;\">\n",
       "      <th></th>\n",
       "      <th>id</th>\n",
       "      <th>city</th>\n",
       "      <th>date</th>\n",
       "      <th>player_of_match</th>\n",
       "      <th>venue</th>\n",
       "      <th>team1</th>\n",
       "      <th>team2</th>\n",
       "      <th>toss_winner</th>\n",
       "      <th>toss_decision</th>\n",
       "      <th>winner</th>\n",
       "      <th>result</th>\n",
       "      <th>result_margin</th>\n",
       "      <th>umpire1</th>\n",
       "      <th>umpire2</th>\n",
       "    </tr>\n",
       "  </thead>\n",
       "  <tbody>\n",
       "    <tr>\n",
       "      <th>0</th>\n",
       "      <td>335982</td>\n",
       "      <td>Bangalore</td>\n",
       "      <td>2008-04-18</td>\n",
       "      <td>BB McCullum</td>\n",
       "      <td>M Chinnaswamy Stadium</td>\n",
       "      <td>Royal Challengers Bangalore</td>\n",
       "      <td>Kolkata Knight Riders</td>\n",
       "      <td>Royal Challengers Bangalore</td>\n",
       "      <td>field</td>\n",
       "      <td>Kolkata Knight Riders</td>\n",
       "      <td>runs</td>\n",
       "      <td>140.0</td>\n",
       "      <td>Asad Rauf</td>\n",
       "      <td>RE Koertzen</td>\n",
       "    </tr>\n",
       "    <tr>\n",
       "      <th>1</th>\n",
       "      <td>335983</td>\n",
       "      <td>Chandigarh</td>\n",
       "      <td>2008-04-19</td>\n",
       "      <td>MEK Hussey</td>\n",
       "      <td>Punjab Cricket Association Stadium, Mohali</td>\n",
       "      <td>Kings XI Punjab</td>\n",
       "      <td>Chennai Super Kings</td>\n",
       "      <td>Chennai Super Kings</td>\n",
       "      <td>bat</td>\n",
       "      <td>Chennai Super Kings</td>\n",
       "      <td>runs</td>\n",
       "      <td>33.0</td>\n",
       "      <td>MR Benson</td>\n",
       "      <td>SL Shastri</td>\n",
       "    </tr>\n",
       "  </tbody>\n",
       "</table>\n",
       "</div>"
      ],
      "text/plain": [
       "       id        city        date player_of_match  \\\n",
       "0  335982   Bangalore  2008-04-18     BB McCullum   \n",
       "1  335983  Chandigarh  2008-04-19      MEK Hussey   \n",
       "\n",
       "                                        venue                        team1  \\\n",
       "0                       M Chinnaswamy Stadium  Royal Challengers Bangalore   \n",
       "1  Punjab Cricket Association Stadium, Mohali              Kings XI Punjab   \n",
       "\n",
       "                   team2                  toss_winner toss_decision  \\\n",
       "0  Kolkata Knight Riders  Royal Challengers Bangalore         field   \n",
       "1    Chennai Super Kings          Chennai Super Kings           bat   \n",
       "\n",
       "                  winner result  result_margin    umpire1      umpire2  \n",
       "0  Kolkata Knight Riders   runs          140.0  Asad Rauf  RE Koertzen  \n",
       "1    Chennai Super Kings   runs           33.0  MR Benson   SL Shastri  "
      ]
     },
     "execution_count": 7,
     "metadata": {},
     "output_type": "execute_result"
    }
   ],
   "source": [
    "df.head(2)"
   ]
  },
  {
   "cell_type": "code",
   "execution_count": 8,
   "id": "fe968dcc-3902-4f6c-bfe5-8965673811d7",
   "metadata": {},
   "outputs": [],
   "source": [
    "# let's do some white space cleanup first\n",
    "\n",
    "for col in df.columns.tolist():\n",
    "    if col != \"result_margin\":\n",
    "        df[col] = df[col].apply(lambda x:str(x).strip())"
   ]
  },
  {
   "cell_type": "markdown",
   "id": "e85b3dd6-7a7f-4804-a9f2-406edc66368c",
   "metadata": {},
   "source": [
    "### We have some data quality issues\n",
    "\n",
    "1. some teams have changed their name\n",
    "\n",
    "2. some team names are repeating i.e Rising Pune Supergiant and Rising Pune Supergiants"
   ]
  },
  {
   "cell_type": "code",
   "execution_count": 9,
   "id": "a3d09745-2290-4853-882b-2bc0d1426c2c",
   "metadata": {},
   "outputs": [
    {
     "data": {
      "text/plain": [
       "{'Chennai Super Kings',\n",
       " 'Deccan Chargers',\n",
       " 'Delhi Capitals',\n",
       " 'Delhi Daredevils',\n",
       " 'Gujarat Lions',\n",
       " 'Kings XI Punjab',\n",
       " 'Kochi Tuskers Kerala',\n",
       " 'Kolkata Knight Riders',\n",
       " 'Mumbai Indians',\n",
       " 'Pune Warriors',\n",
       " 'Rajasthan Royals',\n",
       " 'Rising Pune Supergiant',\n",
       " 'Rising Pune Supergiants',\n",
       " 'Royal Challengers Bangalore',\n",
       " 'Sunrisers Hyderabad'}"
      ]
     },
     "execution_count": 9,
     "metadata": {},
     "output_type": "execute_result"
    }
   ],
   "source": [
    "# let's look at all the unique team names we get\n",
    "\n",
    "set(df[\"team1\"].tolist() + df[\"team2\"].tolist())"
   ]
  },
  {
   "cell_type": "code",
   "execution_count": 10,
   "id": "12fc2b03-ae34-4a20-9619-78c2377b8738",
   "metadata": {},
   "outputs": [],
   "source": [
    "# we will replace the team names with their latest names\n",
    "# using a simple dict to do the job\n",
    "\n",
    "latest_names = {\n",
    "    \"Pune Warriors\":\"Rising Pune Supergiant\",\n",
    "    \"Rising Pune Supergiants\":\"Rising Pune Supergiant\",\n",
    "    \"Deccan Chargers\":\"Sunrisers Hyderabad\",\n",
    "    \"Delhi Daredevils\":\"Delhi Capitals\"\n",
    "}"
   ]
  },
  {
   "cell_type": "code",
   "execution_count": 11,
   "id": "f3c912e0-603e-4850-898c-b6555f15d7b5",
   "metadata": {},
   "outputs": [],
   "source": [
    "# use the above dict to fix names\n",
    "\n",
    "for col in [\"team1\",\"team2\",\"toss_winner\",\"winner\"]:\n",
    "    df[col] = df[col].apply(lambda x:latest_names[x] if x in latest_names else x)"
   ]
  },
  {
   "cell_type": "code",
   "execution_count": 12,
   "id": "0c41b29a-459b-41eb-8421-757410298500",
   "metadata": {},
   "outputs": [
    {
     "data": {
      "text/plain": [
       "{'Chennai Super Kings',\n",
       " 'Delhi Capitals',\n",
       " 'Gujarat Lions',\n",
       " 'Kings XI Punjab',\n",
       " 'Kochi Tuskers Kerala',\n",
       " 'Kolkata Knight Riders',\n",
       " 'Mumbai Indians',\n",
       " 'Rajasthan Royals',\n",
       " 'Rising Pune Supergiant',\n",
       " 'Royal Challengers Bangalore',\n",
       " 'Sunrisers Hyderabad'}"
      ]
     },
     "execution_count": 12,
     "metadata": {},
     "output_type": "execute_result"
    }
   ],
   "source": [
    "set(df[\"team1\"].tolist() + df[\"team2\"].tolist())"
   ]
  },
  {
   "cell_type": "code",
   "execution_count": 13,
   "id": "0ff04b20-8918-412b-af91-ed89bea23837",
   "metadata": {},
   "outputs": [
    {
     "data": {
      "text/html": [
       "<div>\n",
       "<style scoped>\n",
       "    .dataframe tbody tr th:only-of-type {\n",
       "        vertical-align: middle;\n",
       "    }\n",
       "\n",
       "    .dataframe tbody tr th {\n",
       "        vertical-align: top;\n",
       "    }\n",
       "\n",
       "    .dataframe thead th {\n",
       "        text-align: right;\n",
       "    }\n",
       "</style>\n",
       "<table border=\"1\" class=\"dataframe\">\n",
       "  <thead>\n",
       "    <tr style=\"text-align: right;\">\n",
       "      <th></th>\n",
       "      <th>id</th>\n",
       "      <th>city</th>\n",
       "      <th>date</th>\n",
       "      <th>player_of_match</th>\n",
       "      <th>venue</th>\n",
       "      <th>team1</th>\n",
       "      <th>team2</th>\n",
       "      <th>toss_winner</th>\n",
       "      <th>toss_decision</th>\n",
       "      <th>winner</th>\n",
       "      <th>result</th>\n",
       "      <th>result_margin</th>\n",
       "      <th>umpire1</th>\n",
       "      <th>umpire2</th>\n",
       "    </tr>\n",
       "  </thead>\n",
       "  <tbody>\n",
       "    <tr>\n",
       "      <th>0</th>\n",
       "      <td>335982</td>\n",
       "      <td>Bangalore</td>\n",
       "      <td>2008-04-18</td>\n",
       "      <td>BB McCullum</td>\n",
       "      <td>M Chinnaswamy Stadium</td>\n",
       "      <td>Royal Challengers Bangalore</td>\n",
       "      <td>Kolkata Knight Riders</td>\n",
       "      <td>Royal Challengers Bangalore</td>\n",
       "      <td>field</td>\n",
       "      <td>Kolkata Knight Riders</td>\n",
       "      <td>runs</td>\n",
       "      <td>140.0</td>\n",
       "      <td>Asad Rauf</td>\n",
       "      <td>RE Koertzen</td>\n",
       "    </tr>\n",
       "    <tr>\n",
       "      <th>1</th>\n",
       "      <td>335983</td>\n",
       "      <td>Chandigarh</td>\n",
       "      <td>2008-04-19</td>\n",
       "      <td>MEK Hussey</td>\n",
       "      <td>Punjab Cricket Association Stadium, Mohali</td>\n",
       "      <td>Kings XI Punjab</td>\n",
       "      <td>Chennai Super Kings</td>\n",
       "      <td>Chennai Super Kings</td>\n",
       "      <td>bat</td>\n",
       "      <td>Chennai Super Kings</td>\n",
       "      <td>runs</td>\n",
       "      <td>33.0</td>\n",
       "      <td>MR Benson</td>\n",
       "      <td>SL Shastri</td>\n",
       "    </tr>\n",
       "  </tbody>\n",
       "</table>\n",
       "</div>"
      ],
      "text/plain": [
       "       id        city        date player_of_match  \\\n",
       "0  335982   Bangalore  2008-04-18     BB McCullum   \n",
       "1  335983  Chandigarh  2008-04-19      MEK Hussey   \n",
       "\n",
       "                                        venue                        team1  \\\n",
       "0                       M Chinnaswamy Stadium  Royal Challengers Bangalore   \n",
       "1  Punjab Cricket Association Stadium, Mohali              Kings XI Punjab   \n",
       "\n",
       "                   team2                  toss_winner toss_decision  \\\n",
       "0  Kolkata Knight Riders  Royal Challengers Bangalore         field   \n",
       "1    Chennai Super Kings          Chennai Super Kings           bat   \n",
       "\n",
       "                  winner result  result_margin    umpire1      umpire2  \n",
       "0  Kolkata Knight Riders   runs          140.0  Asad Rauf  RE Koertzen  \n",
       "1    Chennai Super Kings   runs           33.0  MR Benson   SL Shastri  "
      ]
     },
     "execution_count": 13,
     "metadata": {},
     "output_type": "execute_result"
    }
   ],
   "source": [
    "df.head(2)"
   ]
  },
  {
   "cell_type": "markdown",
   "id": "a04782f1-a6b7-4884-9b24-f4e68af25e26",
   "metadata": {},
   "source": [
    "### Removing NaN values"
   ]
  },
  {
   "cell_type": "code",
   "execution_count": 14,
   "id": "ed138c54-64d2-4c84-b0f6-7f8d6765455e",
   "metadata": {},
   "outputs": [
    {
     "name": "stdout",
     "output_type": "stream",
     "text": [
      "id : 0\n",
      "city : 0\n",
      "date : 0\n",
      "player_of_match : 0\n",
      "venue : 0\n",
      "team1 : 0\n",
      "team2 : 0\n",
      "toss_winner : 0\n",
      "toss_decision : 0\n",
      "winner : 0\n",
      "result : 0\n",
      "result_margin : 17\n",
      "umpire1 : 0\n",
      "umpire2 : 0\n"
     ]
    }
   ],
   "source": [
    "# check which columns have NaN values and their counts\n",
    "\n",
    "for col in df.columns:\n",
    "    print(f\"{col} : {df[col].isna().sum()}\")"
   ]
  },
  {
   "cell_type": "code",
   "execution_count": 15,
   "id": "8adee44a-c29e-458a-b65a-56ddf54ac7f5",
   "metadata": {},
   "outputs": [],
   "source": [
    "# drop NaN values\n",
    "\n",
    "df.dropna(inplace=True)"
   ]
  },
  {
   "cell_type": "code",
   "execution_count": 16,
   "id": "6e59bdd0-96c4-4d0e-9356-07f4ade6ad84",
   "metadata": {},
   "outputs": [
    {
     "data": {
      "text/plain": [
       "(799, 14)"
      ]
     },
     "execution_count": 16,
     "metadata": {},
     "output_type": "execute_result"
    }
   ],
   "source": [
    "# no of data points left after droping\n",
    "\n",
    "df.shape"
   ]
  },
  {
   "cell_type": "code",
   "execution_count": 17,
   "id": "6a4c6706-d095-4a7c-a141-f210ba26f7f2",
   "metadata": {},
   "outputs": [
    {
     "name": "stdout",
     "output_type": "stream",
     "text": [
      "id : 0\n",
      "city : 0\n",
      "date : 0\n",
      "player_of_match : 0\n",
      "venue : 0\n",
      "team1 : 0\n",
      "team2 : 0\n",
      "toss_winner : 0\n",
      "toss_decision : 0\n",
      "winner : 0\n",
      "result : 0\n",
      "result_margin : 0\n",
      "umpire1 : 0\n",
      "umpire2 : 0\n"
     ]
    }
   ],
   "source": [
    "# recheck\n",
    "\n",
    "for col in df.columns:\n",
    "    print(f\"{col} : {df[col].isna().sum()}\")"
   ]
  },
  {
   "cell_type": "code",
   "execution_count": 18,
   "id": "1b065df3-ba25-48c4-bac9-d7a1e8d20211",
   "metadata": {},
   "outputs": [
    {
     "data": {
      "text/plain": [
       "array(['Bangalore', 'Chandigarh', 'Delhi', 'Mumbai', 'Kolkata', 'Jaipur',\n",
       "       'Hyderabad', 'Chennai', 'Cape Town', 'Port Elizabeth', 'Durban',\n",
       "       'Centurion', 'East London', 'Johannesburg', 'Kimberley',\n",
       "       'Bloemfontein', 'Ahmedabad', 'Cuttack', 'Nagpur', 'Dharamsala',\n",
       "       'Kochi', 'Indore', 'Visakhapatnam', 'Pune', 'Raipur', 'Ranchi',\n",
       "       'Abu Dhabi', 'nan', 'Rajkot', 'Kanpur', 'Bengaluru', 'Sharjah',\n",
       "       'Dubai'], dtype=object)"
      ]
     },
     "execution_count": 18,
     "metadata": {},
     "output_type": "execute_result"
    }
   ],
   "source": [
    "# cleaning city names\n",
    "\n",
    "df['city'].unique()"
   ]
  },
  {
   "cell_type": "markdown",
   "id": "9296b42f-2588-45ec-97fa-a38c45dfa990",
   "metadata": {},
   "source": [
    "### Handle the Bangalore and Bengaluru case\n",
    "\n",
    "**We will change the city name to its latest i.e** `Bengaluru` "
   ]
  },
  {
   "cell_type": "code",
   "execution_count": 19,
   "id": "621ec4b3-7ce3-490f-ae62-5186ad5df348",
   "metadata": {},
   "outputs": [],
   "source": [
    "df[\"city\"] = df[\"city\"].apply(lambda x:\"Bengaluru\" if x == \"Bangalore\" else x)"
   ]
  },
  {
   "cell_type": "code",
   "execution_count": 20,
   "id": "50e8316b-cf0c-4312-8539-4f72a3f82768",
   "metadata": {},
   "outputs": [
    {
     "data": {
      "text/plain": [
       "array(['Bengaluru', 'Chandigarh', 'Delhi', 'Mumbai', 'Kolkata', 'Jaipur',\n",
       "       'Hyderabad', 'Chennai', 'Cape Town', 'Port Elizabeth', 'Durban',\n",
       "       'Centurion', 'East London', 'Johannesburg', 'Kimberley',\n",
       "       'Bloemfontein', 'Ahmedabad', 'Cuttack', 'Nagpur', 'Dharamsala',\n",
       "       'Kochi', 'Indore', 'Visakhapatnam', 'Pune', 'Raipur', 'Ranchi',\n",
       "       'Abu Dhabi', 'nan', 'Rajkot', 'Kanpur', 'Sharjah', 'Dubai'],\n",
       "      dtype=object)"
      ]
     },
     "execution_count": 20,
     "metadata": {},
     "output_type": "execute_result"
    }
   ],
   "source": [
    "df[\"city\"].unique()"
   ]
  },
  {
   "cell_type": "markdown",
   "id": "b326df36-2e05-41af-90b2-f934fea08f17",
   "metadata": {},
   "source": [
    "### Fix some venue names\n",
    "\n",
    "see [stadiums info](https://en.wikipedia.org/wiki/List_of_international_cricket_grounds_in_India) for more details"
   ]
  },
  {
   "cell_type": "code",
   "execution_count": 21,
   "id": "5048e0ae-41c5-4f6a-808d-29746d22a0f9",
   "metadata": {},
   "outputs": [
    {
     "name": "stdout",
     "output_type": "stream",
     "text": [
      "M Chinnaswamy Stadium\n",
      "Punjab Cricket Association Stadium, Mohali\n",
      "Feroz Shah Kotla\n",
      "Wankhede Stadium\n",
      "Eden Gardens\n",
      "Sawai Mansingh Stadium\n",
      "Rajiv Gandhi International Stadium, Uppal\n",
      "MA Chidambaram Stadium, Chepauk\n",
      "Dr DY Patil Sports Academy\n",
      "Newlands\n",
      "St George's Park\n",
      "Kingsmead\n",
      "SuperSport Park\n",
      "Buffalo Park\n",
      "New Wanderers Stadium\n",
      "De Beers Diamond Oval\n",
      "OUTsurance Oval\n",
      "Brabourne Stadium\n",
      "Sardar Patel Stadium, Motera\n",
      "Barabati Stadium\n",
      "Vidarbha Cricket Association Stadium, Jamtha\n",
      "Himachal Pradesh Cricket Association Stadium\n",
      "Nehru Stadium\n",
      "Holkar Cricket Stadium\n",
      "Dr. Y.S. Rajasekhara Reddy ACA-VDCA Cricket Stadium\n",
      "Subrata Roy Sahara Stadium\n",
      "Shaheed Veer Narayan Singh International Stadium\n",
      "JSCA International Stadium Complex\n",
      "Sheikh Zayed Stadium\n",
      "Sharjah Cricket Stadium\n",
      "Dubai International Cricket Stadium\n",
      "Maharashtra Cricket Association Stadium\n",
      "Punjab Cricket Association IS Bindra Stadium, Mohali\n",
      "Saurashtra Cricket Association Stadium\n",
      "Green Park\n",
      "M.Chinnaswamy Stadium\n"
     ]
    }
   ],
   "source": [
    "for v in df[\"venue\"].unique():\n",
    "    print(v)"
   ]
  },
  {
   "cell_type": "code",
   "execution_count": 22,
   "id": "107f1304-e3b7-4232-87e9-2743e8996766",
   "metadata": {},
   "outputs": [],
   "source": [
    "df[\"venue\"] = df[\"venue\"].apply(lambda x:\"M.Chinnaswamy Stadium\" \\\n",
    "                                if x==\"M Chinnaswamy Stadium\" else x)"
   ]
  },
  {
   "cell_type": "code",
   "execution_count": 23,
   "id": "095bace4-892b-46ca-bc15-5f0fc45af47d",
   "metadata": {},
   "outputs": [
    {
     "name": "stdout",
     "output_type": "stream",
     "text": [
      "M.Chinnaswamy Stadium\n",
      "Punjab Cricket Association Stadium, Mohali\n",
      "Feroz Shah Kotla\n",
      "Wankhede Stadium\n",
      "Eden Gardens\n",
      "Sawai Mansingh Stadium\n",
      "Rajiv Gandhi International Stadium, Uppal\n",
      "MA Chidambaram Stadium, Chepauk\n",
      "Dr DY Patil Sports Academy\n",
      "Newlands\n",
      "St George's Park\n",
      "Kingsmead\n",
      "SuperSport Park\n",
      "Buffalo Park\n",
      "New Wanderers Stadium\n",
      "De Beers Diamond Oval\n",
      "OUTsurance Oval\n",
      "Brabourne Stadium\n",
      "Sardar Patel Stadium, Motera\n",
      "Barabati Stadium\n",
      "Vidarbha Cricket Association Stadium, Jamtha\n",
      "Himachal Pradesh Cricket Association Stadium\n",
      "Nehru Stadium\n",
      "Holkar Cricket Stadium\n",
      "Dr. Y.S. Rajasekhara Reddy ACA-VDCA Cricket Stadium\n",
      "Subrata Roy Sahara Stadium\n",
      "Shaheed Veer Narayan Singh International Stadium\n",
      "JSCA International Stadium Complex\n",
      "Sheikh Zayed Stadium\n",
      "Sharjah Cricket Stadium\n",
      "Dubai International Cricket Stadium\n",
      "Maharashtra Cricket Association Stadium\n",
      "Punjab Cricket Association IS Bindra Stadium, Mohali\n",
      "Saurashtra Cricket Association Stadium\n",
      "Green Park\n"
     ]
    }
   ],
   "source": [
    "for v in df[\"venue\"].unique():\n",
    "    print(v)"
   ]
  },
  {
   "cell_type": "code",
   "execution_count": 24,
   "id": "b9ca261e-322d-4d88-b023-041601f38ff0",
   "metadata": {},
   "outputs": [
    {
     "data": {
      "text/plain": [
       "Index(['id', 'city', 'date', 'player_of_match', 'venue', 'team1', 'team2',\n",
       "       'toss_winner', 'toss_decision', 'winner', 'result', 'result_margin',\n",
       "       'umpire1', 'umpire2'],\n",
       "      dtype='object')"
      ]
     },
     "execution_count": 24,
     "metadata": {},
     "output_type": "execute_result"
    }
   ],
   "source": [
    "df.columns"
   ]
  },
  {
   "cell_type": "markdown",
   "id": "59dee2d8-aac1-4d61-b2d5-a42179d1e205",
   "metadata": {},
   "source": [
    "## That's it :)"
   ]
  },
  {
   "cell_type": "code",
   "execution_count": 25,
   "id": "1393d867-fe9e-4aba-8a7c-cf16a86f1ed7",
   "metadata": {},
   "outputs": [],
   "source": [
    "df.to_csv(\"matches.csv\",index=False)"
   ]
  },
  {
   "cell_type": "code",
   "execution_count": null,
   "id": "958b8c44-5fea-4ea2-833a-d667790a9efe",
   "metadata": {},
   "outputs": [],
   "source": []
  }
 ],
 "metadata": {
  "kernelspec": {
   "display_name": "Python 3",
   "language": "python",
   "name": "python3"
  },
  "language_info": {
   "codemirror_mode": {
    "name": "ipython",
    "version": 3
   },
   "file_extension": ".py",
   "mimetype": "text/x-python",
   "name": "python",
   "nbconvert_exporter": "python",
   "pygments_lexer": "ipython3",
   "version": "3.9.4"
  }
 },
 "nbformat": 4,
 "nbformat_minor": 5
}
